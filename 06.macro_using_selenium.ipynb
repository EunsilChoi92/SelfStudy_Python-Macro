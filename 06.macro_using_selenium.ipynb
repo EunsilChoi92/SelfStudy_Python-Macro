{
 "cells": [
  {
   "cell_type": "code",
   "execution_count": 1,
   "id": "5a54cb10",
   "metadata": {
    "collapsed": true
   },
   "outputs": [
    {
     "name": "stdout",
     "output_type": "stream",
     "text": [
      "Collecting selenium\n",
      "  Downloading selenium-4.1.0-py3-none-any.whl (958 kB)\n",
      "Requirement already satisfied: urllib3[secure]~=1.26 in c:\\anaconda3\\lib\\site-packages (from selenium) (1.26.7)\n",
      "Collecting trio-websocket~=0.9\n",
      "  Downloading trio_websocket-0.9.2-py3-none-any.whl (16 kB)\n",
      "Collecting trio~=0.17\n",
      "  Downloading trio-0.19.0-py3-none-any.whl (356 kB)\n",
      "Requirement already satisfied: sortedcontainers in c:\\anaconda3\\lib\\site-packages (from trio~=0.17->selenium) (2.4.0)\n",
      "Requirement already satisfied: sniffio in c:\\anaconda3\\lib\\site-packages (from trio~=0.17->selenium) (1.2.0)\n",
      "Requirement already satisfied: async-generator>=1.9 in c:\\anaconda3\\lib\\site-packages (from trio~=0.17->selenium) (1.10)\n",
      "Requirement already satisfied: cffi>=1.14 in c:\\anaconda3\\lib\\site-packages (from trio~=0.17->selenium) (1.14.6)\n",
      "Requirement already satisfied: idna in c:\\anaconda3\\lib\\site-packages (from trio~=0.17->selenium) (3.2)\n",
      "Collecting outcome\n",
      "  Downloading outcome-1.1.0-py2.py3-none-any.whl (9.7 kB)\n",
      "Requirement already satisfied: attrs>=19.2.0 in c:\\anaconda3\\lib\\site-packages (from trio~=0.17->selenium) (21.2.0)\n",
      "Requirement already satisfied: pycparser in c:\\anaconda3\\lib\\site-packages (from cffi>=1.14->trio~=0.17->selenium) (2.20)\n",
      "Collecting wsproto>=0.14\n",
      "  Downloading wsproto-1.0.0-py3-none-any.whl (24 kB)\n",
      "Requirement already satisfied: pyOpenSSL>=0.14 in c:\\anaconda3\\lib\\site-packages (from urllib3[secure]~=1.26->selenium) (21.0.0)\n",
      "Requirement already satisfied: cryptography>=1.3.4 in c:\\anaconda3\\lib\\site-packages (from urllib3[secure]~=1.26->selenium) (3.4.8)\n",
      "Requirement already satisfied: certifi in c:\\anaconda3\\lib\\site-packages (from urllib3[secure]~=1.26->selenium) (2021.10.8)\n",
      "Requirement already satisfied: six>=1.5.2 in c:\\anaconda3\\lib\\site-packages (from pyOpenSSL>=0.14->urllib3[secure]~=1.26->selenium) (1.16.0)\n",
      "Collecting h11<1,>=0.9.0\n",
      "  Downloading h11-0.13.0-py3-none-any.whl (58 kB)\n",
      "Installing collected packages: outcome, h11, wsproto, trio, trio-websocket, selenium\n",
      "Successfully installed h11-0.13.0 outcome-1.1.0 selenium-4.1.0 trio-0.19.0 trio-websocket-0.9.2 wsproto-1.0.0\n",
      "Note: you may need to restart the kernel to use updated packages.\n"
     ]
    }
   ],
   "source": [
    "pip install selenium"
   ]
  },
  {
   "cell_type": "code",
   "execution_count": 72,
   "id": "0789f6f4",
   "metadata": {},
   "outputs": [],
   "source": [
    "from selenium import webdriver\n",
    "from selenium.webdriver.common.by import By\n",
    "import time"
   ]
  },
  {
   "cell_type": "code",
   "execution_count": 73,
   "id": "74c06dcd",
   "metadata": {},
   "outputs": [
    {
     "name": "stderr",
     "output_type": "stream",
     "text": [
      "C:\\Users\\atheu\\AppData\\Local\\Temp/ipykernel_15752/3537164789.py:1: DeprecationWarning: executable_path has been deprecated, please pass in a Service object\n",
      "  driver = webdriver.Chrome('D:/temp/chromedriver.exe')\n"
     ]
    }
   ],
   "source": [
    "# 크롬 드라이버 설치 후 크롬 드라이버가 있는 폴더의 경로를 매개변수로 입력\n",
    "# 왜인지 모르겠지만 \\로 하면 에러가 나므로 /를 사용\n",
    "driver = webdriver.Chrome('D:/temp/chromedriver.exe')\n",
    "time.sleep(2)\n",
    "\n",
    "# 컨트롤 할 url 주소\n",
    "url = 'http://www.ssg.com'\n",
    "driver.get(url)\n",
    "time.sleep(2)\n",
    "\n",
    "# 찾을 요소(F12 이용) \"//태그[@속성='속성값']\"\n",
    "xpath = \"//a[@class='clickable']\"\n",
    "# driver.find_element_by_xpath(xpath) -> 이제 이렇게 하면 에러가 뜸 \n",
    "login_btn = driver.find_element(By.XPATH, xpath) # By.을 사용하려면 from selenium.webdriver.common.by import By 필요\n",
    "login_btn.click()\n",
    "time.sleep(2)\n",
    "\n",
    "# 로그인 창이 새창으로 열림 -> 컨트롤하는 창 바꿈\n",
    "driver.switch_to.window(driver.window_handles[-1])\n",
    "driver.get_window_position(driver.window_handles[-1])\n",
    "\n",
    "# 로그인 창에서 id 입력 요소 찾기\n",
    "id_path = \"//input[@id='mem_id']\"\n",
    "id_input = driver.find_element(By.XPATH, id_path)\n",
    "id_input.click()\n",
    "# input 창에 원하는 문자열을 입력할 수 있음\n",
    "id_input.send_keys(\"id\")\n",
    "time.sleep(1)\n",
    "\n",
    "# pw 입력 요소 찾기\n",
    "pw_path = \"//input[@id='mem_pw']\"\n",
    "pw_input = driver.find_element(By.XPATH, pw_path)\n",
    "pw_input.click()\n",
    "pw_input.send_keys(\"password\")\n",
    "time.sleep(1)\n",
    "\n",
    "final_login_btn = driver.find_element(By.XPATH, login_btn_path)\n",
    "final_login_btn.click()\n",
    "time.sleep(2)\n",
    "\n",
    "# 이전 창을 컨트롤하려면 필요(지금은 로그인창이 자동으로 사라지므로 필요없음)\n",
    "# driver.switch_to.window(driver.window_handles[+1])\n",
    "# driver.get_window_position(driver.window_handles[+1])"
   ]
  },
  {
   "cell_type": "code",
   "execution_count": 71,
   "id": "15a63029",
   "metadata": {},
   "outputs": [],
   "source": [
    "\n",
    "\n"
   ]
  }
 ],
 "metadata": {
  "kernelspec": {
   "display_name": "Python 3 (ipykernel)",
   "language": "python",
   "name": "python3"
  },
  "language_info": {
   "codemirror_mode": {
    "name": "ipython",
    "version": 3
   },
   "file_extension": ".py",
   "mimetype": "text/x-python",
   "name": "python",
   "nbconvert_exporter": "python",
   "pygments_lexer": "ipython3",
   "version": "3.9.7"
  }
 },
 "nbformat": 4,
 "nbformat_minor": 5
}
