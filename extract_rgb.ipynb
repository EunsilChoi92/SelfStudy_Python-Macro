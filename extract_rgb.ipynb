{
 "cells": [
  {
   "cell_type": "code",
   "execution_count": 1,
   "id": "50a2a412",
   "metadata": {},
   "outputs": [
    {
     "name": "stdout",
     "output_type": "stream",
     "text": [
      "Requirement already satisfied: pillow in c:\\anaconda3\\lib\\site-packages (8.4.0)\n",
      "Note: you may need to restart the kernel to use updated packages.\n"
     ]
    }
   ],
   "source": [
    "# 스크린샷을 위해 pillow 모듈 설치\n",
    "pip install pillow"
   ]
  },
  {
   "cell_type": "code",
   "execution_count": 10,
   "id": "88a23088",
   "metadata": {},
   "outputs": [
    {
     "name": "stdout",
     "output_type": "stream",
     "text": [
      "Point(x=428, y=365)\n"
     ]
    },
    {
     "data": {
      "text/plain": [
       "(63, 72, 204)"
      ]
     },
     "execution_count": 10,
     "metadata": {},
     "output_type": "execute_result"
    }
   ],
   "source": [
    "# PIL 안에 있는 ImageGrab import\n",
    "from PIL import ImageGrab\n",
    "\n",
    "# 화면 캡쳐\n",
    "screen = ImageGrab.grab()\n",
    "\n",
    "import pyautogui as pag\n",
    "\n",
    "pos = pag.position()\n",
    "print(pos)\n",
    "\n",
    "# 해당 좌표에서 RGB값을 뽑음\n",
    "screen.getpixel(pos)"
   ]
  },
  {
   "cell_type": "code",
   "execution_count": 16,
   "id": "0b18ec3e",
   "metadata": {},
   "outputs": [],
   "source": [
    "# 현재 마우스 커서의 좌표 색깔 구분하기\n",
    "# 함수 정의\n",
    "def color_def() :\n",
    "    red = (237, 28, 36)\n",
    "    green = (34, 177, 76)\n",
    "    blue = (63, 72, 204)\n",
    "\n",
    "    screen = ImageGrab.grab()\n",
    "    pos = pag.position()\n",
    "    rgb = screen.getpixel(pos)\n",
    "\n",
    "    if rgb == red : print(\"red\")\n",
    "    elif rgb == green : print(\"green\")\n",
    "    elif rgb == blue : print(\"blue\")\n",
    "    else : print(\"알수없음\")"
   ]
  },
  {
   "cell_type": "code",
   "execution_count": 23,
   "id": "45eb40b0",
   "metadata": {},
   "outputs": [
    {
     "name": "stdout",
     "output_type": "stream",
     "text": [
      "알수없음\n"
     ]
    }
   ],
   "source": [
    "# 함수 호출\n",
    "color_def()"
   ]
  },
  {
   "cell_type": "code",
   "execution_count": null,
   "id": "c3caa409",
   "metadata": {},
   "outputs": [],
   "source": []
  }
 ],
 "metadata": {
  "kernelspec": {
   "display_name": "Python 3 (ipykernel)",
   "language": "python",
   "name": "python3"
  },
  "language_info": {
   "codemirror_mode": {
    "name": "ipython",
    "version": 3
   },
   "file_extension": ".py",
   "mimetype": "text/x-python",
   "name": "python",
   "nbconvert_exporter": "python",
   "pygments_lexer": "ipython3",
   "version": "3.9.7"
  }
 },
 "nbformat": 4,
 "nbformat_minor": 5
}
