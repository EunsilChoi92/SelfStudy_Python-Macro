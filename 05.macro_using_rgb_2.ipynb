{
 "cells": [
  {
   "cell_type": "code",
   "execution_count": 1,
   "id": "cadc8ef9",
   "metadata": {},
   "outputs": [],
   "source": [
    "# 새로고침을 할 경우 9개의 흰 네모칸에 가끔씩 빨간색이 등장\n",
    "# 빨간색이 범위 안에 있는지 확인\n",
    "# 2-1: 있으면 클릭\n",
    "# 2-2: 없으면 새로고침"
   ]
  },
  {
   "cell_type": "code",
   "execution_count": 3,
   "id": "6cc53693",
   "metadata": {},
   "outputs": [],
   "source": [
    "import pyautogui as pag\n",
    "import keyboard\n",
    "from PIL import ImageGrab\n",
    "import time"
   ]
  },
  {
   "cell_type": "code",
   "execution_count": null,
   "id": "119a8152",
   "metadata": {},
   "outputs": [],
   "source": [
    "while True:\n",
    "    while True:\n",
    "        if keyboard.is_pressed('F3'):\n",
    "            pos = pag.position()\n",
    "            print(pos)\n",
    "            screen = ImageGrab.grab()\n",
    "            rgb = screen.getpixel(pos)\n",
    "            print(rgb)\n",
    "            break\n",
    "    while True:\n",
    "        if keyboard.is_pressed('F4'):\n",
    "            break"
   ]
  },
  {
   "cell_type": "code",
   "execution_count": null,
   "id": "6a1ba0da",
   "metadata": {},
   "outputs": [],
   "source": [
    "# 9개의 네모칸의 시작점과 끝점부터 빨간색이 있는지 검사\n",
    "start = (239, 236)\n",
    "end = (731, 643)\n",
    "red = (255, 0, 0)\n",
    "refresh = (103, 64) # 새로고침 버튼의 좌표\n",
    "SB = 0 # 반복문을 종료시키기 위한 변수\n",
    "\n",
    "while True:\n",
    "    screen = ImageGrab.grab()\n",
    "    for i in range(start[0], end[0]):\n",
    "        for j in range(start[1], end[1]):\n",
    "            rgb = screen.getpixel((i, j))\n",
    "            if rgb == red :\n",
    "                pag.moveTo((i + 15, j + 15))\n",
    "                # 바깥 for문을 종료하기 위해 1로 변경\n",
    "                SB = 1\n",
    "                break\n",
    "        # 바깥 for문 종료\n",
    "        if SB == 1:\n",
    "            break\n",
    "    # 아예 빨간색이 없는 경우 새로고침\n",
    "    if SB == 0:\n",
    "        pag.click(refresh)\n",
    "    else:\n",
    "        break"
   ]
  },
  {
   "cell_type": "code",
   "execution_count": null,
   "id": "ea9f5fb1",
   "metadata": {},
   "outputs": [],
   "source": []
  }
 ],
 "metadata": {
  "kernelspec": {
   "display_name": "Python 3 (ipykernel)",
   "language": "python",
   "name": "python3"
  },
  "language_info": {
   "codemirror_mode": {
    "name": "ipython",
    "version": 3
   },
   "file_extension": ".py",
   "mimetype": "text/x-python",
   "name": "python",
   "nbconvert_exporter": "python",
   "pygments_lexer": "ipython3",
   "version": "3.9.7"
  }
 },
 "nbformat": 4,
 "nbformat_minor": 5
}
