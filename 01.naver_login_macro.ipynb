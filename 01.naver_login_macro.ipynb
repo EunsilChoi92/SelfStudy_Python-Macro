{
 "cells": [
  {
   "cell_type": "code",
   "execution_count": 4,
   "id": "862983c1",
   "metadata": {
    "collapsed": true
   },
   "outputs": [
    {
     "name": "stdout",
     "output_type": "stream",
     "text": [
      "Requirement already satisfied: pyautogui in c:\\anaconda3\\lib\\site-packages (0.9.53)\n",
      "Requirement already satisfied: PyTweening>=1.0.1 in c:\\anaconda3\\lib\\site-packages (from pyautogui) (1.0.4)\n",
      "Requirement already satisfied: pyscreeze>=0.1.21 in c:\\anaconda3\\lib\\site-packages (from pyautogui) (0.1.28)\n",
      "Requirement already satisfied: pymsgbox in c:\\anaconda3\\lib\\site-packages (from pyautogui) (1.0.9)\n",
      "Requirement already satisfied: pygetwindow>=0.0.5 in c:\\anaconda3\\lib\\site-packages (from pyautogui) (0.0.9)\n",
      "Requirement already satisfied: mouseinfo in c:\\anaconda3\\lib\\site-packages (from pyautogui) (0.1.3)\n",
      "Requirement already satisfied: pyrect in c:\\anaconda3\\lib\\site-packages (from pygetwindow>=0.0.5->pyautogui) (0.1.4)\n",
      "Requirement already satisfied: pyperclip in c:\\anaconda3\\lib\\site-packages (from mouseinfo->pyautogui) (1.8.2)\n",
      "Note: you may need to restart the kernel to use updated packages.\n"
     ]
    }
   ],
   "source": [
    "# pyautogui 모듈 설치\n",
    "pip install pyautogui"
   ]
  },
  {
   "cell_type": "code",
   "execution_count": 5,
   "id": "e0913b5f",
   "metadata": {},
   "outputs": [],
   "source": [
    "# pyautogui 라이브러리의 이름을 pag로 명명하며 import\n",
    "import pyautogui as pag"
   ]
  },
  {
   "cell_type": "code",
   "execution_count": null,
   "id": "c743c4fa",
   "metadata": {},
   "outputs": [],
   "source": [
    "# 자동입력 방지문자 창을 피하기 위해 time 모듈 import\n",
    "import time"
   ]
  },
  {
   "cell_type": "code",
   "execution_count": 8,
   "id": "5cdcd0dc",
   "metadata": {},
   "outputs": [
    {
     "name": "stdout",
     "output_type": "stream",
     "text": [
      "Point(x=1077, y=582)\n"
     ]
    }
   ],
   "source": [
    "# 네이버 로그인 버튼의 위치 추출\n",
    "login_btn = pag.position()\n",
    "print(login_btn)"
   ]
  },
  {
   "cell_type": "code",
   "execution_count": 29,
   "id": "88048c44",
   "metadata": {},
   "outputs": [],
   "source": [
    "# 저장한 로그인 버튼 좌표 클릭\n",
    "pag.click(login_btn)"
   ]
  },
  {
   "cell_type": "code",
   "execution_count": 15,
   "id": "ca606fc5",
   "metadata": {},
   "outputs": [
    {
     "name": "stdout",
     "output_type": "stream",
     "text": [
      "Point(x=461, y=585)\n"
     ]
    }
   ],
   "source": [
    "# id 입력칸 좌표 추출\n",
    "id_position = pag.position()\n",
    "print(id_position)"
   ]
  },
  {
   "cell_type": "code",
   "execution_count": 45,
   "id": "96d3f0ca",
   "metadata": {},
   "outputs": [],
   "source": [
    "# id 입력칸 클릭 후 1초 대기\n",
    "pag.click(id_position)\n",
    "# time.sleep(1) - 여전히 자동문자 입력방지 창이 떠서 주석처리함\n",
    "\n",
    "# 글자 타이핑 - id 입력\n",
    "my_id = \"id\"\n",
    "# pag.typewrite(my_id)\n",
    "# interval을 주며 타이핑\n",
    "pag.typewrite(my_id, interval=0.1)\n",
    "\n",
    "# Tab을 눌러 비밀번호 칸으로 이동\n",
    "pag.press(\"tab\")\n",
    "time.sleep(1)\n",
    "\n",
    "# 비밀번호 입력\n",
    "my_pw = \"password\"\n",
    "# pag.typewrite(my_pw)\n",
    "pag.typewrite(my_pw, interval=0.1)"
   ]
  },
  {
   "cell_type": "code",
   "execution_count": 27,
   "id": "83832884",
   "metadata": {},
   "outputs": [
    {
     "name": "stdout",
     "output_type": "stream",
     "text": [
      "Point(x=596, y=824)\n"
     ]
    }
   ],
   "source": [
    "# 로그인 버튼 좌표 추출\n",
    "login_final = pag.position()\n",
    "print(login_final)"
   ]
  },
  {
   "cell_type": "code",
   "execution_count": 34,
   "id": "1b3f4fa2",
   "metadata": {},
   "outputs": [],
   "source": [
    "# 로그인 버튼 클릭\n",
    "pag.click(login_final)\n",
    "\n",
    "# 자동문자 입력방지 창은 계속 뜨지만 매크로 만들기는 일단 성공^^"
   ]
  }
 ],
 "metadata": {
  "kernelspec": {
   "display_name": "Python 3 (ipykernel)",
   "language": "python",
   "name": "python3"
  },
  "language_info": {
   "codemirror_mode": {
    "name": "ipython",
    "version": 3
   },
   "file_extension": ".py",
   "mimetype": "text/x-python",
   "name": "python",
   "nbconvert_exporter": "python",
   "pygments_lexer": "ipython3",
   "version": "3.9.7"
  }
 },
 "nbformat": 4,
 "nbformat_minor": 5
}
